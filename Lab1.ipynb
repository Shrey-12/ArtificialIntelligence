{
 "cells": [
  {
   "cell_type": "code",
   "execution_count": 3,
   "id": "fcaef3e5",
   "metadata": {},
   "outputs": [],
   "source": [
    "import numpy as np\n",
    "import pandas as pd\n",
    "import time\n",
    "import random"
   ]
  },
  {
   "cell_type": "markdown",
   "id": "4ca5bfa2",
   "metadata": {},
   "source": [
    "Create a two-dimensional NumPy array of size 10x10 with random values between 0\n",
    "and 1.\n",
    "a) Add 10 with each element individually using any loop in python\n",
    "b) Perform vector addition to add 10 with each element.\n",
    "c) Compare the time taken by the above two operations."
   ]
  },
  {
   "cell_type": "code",
   "execution_count": 2,
   "id": "b62b4ba4",
   "metadata": {},
   "outputs": [],
   "source": [
    "arr = np.random.rand(10,10)"
   ]
  },
  {
   "cell_type": "code",
   "execution_count": 6,
   "id": "564e3207",
   "metadata": {},
   "outputs": [],
   "source": [
    "start_time=time.time()\n",
    "for i in range(10):\n",
    "    for j in range(10):\n",
    "        arr[i][j] += 10\n",
    "time_taken_1=time.time() - start_time;"
   ]
  },
  {
   "cell_type": "code",
   "execution_count": 7,
   "id": "713a0343",
   "metadata": {},
   "outputs": [],
   "source": [
    "start_time=time.time()\n",
    "arr = arr +10 # arr = np.add(arr,10)\n",
    "time_taken_2= time.time() - start_time"
   ]
  },
  {
   "cell_type": "code",
   "execution_count": 8,
   "id": "3dec5935",
   "metadata": {},
   "outputs": [
    {
     "name": "stdout",
     "output_type": "stream",
     "text": [
      "Time taken for operation 1: 0.32830238342285156 seconds\n",
      "Time taken for operation 2: 0.08845329284667969 seconds\n"
     ]
    }
   ],
   "source": [
    "print(f\"Time taken for operation 1: {time_taken_1} seconds\")\n",
    "print(f\"Time taken for operation 2: {time_taken_2} seconds\")"
   ]
  },
  {
   "cell_type": "markdown",
   "id": "de5d8c1a",
   "metadata": {},
   "source": [
    "vector addition takes lesser time"
   ]
  },
  {
   "cell_type": "markdown",
   "id": "eeb25f62",
   "metadata": {},
   "source": [
    "2. Create a pandas data frame with columns (roll no, name, subject, age, marks)\n",
    "a) Add 10 student information into the data frame\n",
    "b) Find out the minimum, maximum, mean, median, and standard deviation of\n",
    "the marks obtained by the students."
   ]
  },
  {
   "cell_type": "code",
   "execution_count": 10,
   "id": "2d670971",
   "metadata": {},
   "outputs": [],
   "source": [
    "df = pd.DataFrame(columns=[\"roll no\", \"name\",\"subject\", \"age\",\"marks\"])"
   ]
  },
  {
   "cell_type": "code",
   "execution_count": 13,
   "id": "5c222471",
   "metadata": {},
   "outputs": [],
   "source": [
    "for i in range(10):\n",
    "    df.loc[i] = [i+1, \"Student\" + str(i+1), \"Science\", 20, i+50]\n",
    "   "
   ]
  },
  {
   "cell_type": "code",
   "execution_count": 18,
   "id": "ebedef28",
   "metadata": {},
   "outputs": [
    {
     "data": {
      "text/plain": [
       "54.5"
      ]
     },
     "execution_count": 18,
     "metadata": {},
     "output_type": "execute_result"
    }
   ],
   "source": [
    "df['marks'].mean()"
   ]
  },
  {
   "cell_type": "code",
   "execution_count": 19,
   "id": "6e1aa2b4",
   "metadata": {},
   "outputs": [
    {
     "data": {
      "text/plain": [
       "59"
      ]
     },
     "execution_count": 19,
     "metadata": {},
     "output_type": "execute_result"
    }
   ],
   "source": [
    "df['marks'].max()"
   ]
  },
  {
   "cell_type": "code",
   "execution_count": 20,
   "id": "db166b44",
   "metadata": {},
   "outputs": [
    {
     "data": {
      "text/plain": [
       "54.5"
      ]
     },
     "execution_count": 20,
     "metadata": {},
     "output_type": "execute_result"
    }
   ],
   "source": [
    "df['marks'].median()"
   ]
  },
  {
   "cell_type": "code",
   "execution_count": 21,
   "id": "1ccf3588",
   "metadata": {},
   "outputs": [
    {
     "data": {
      "text/plain": [
       "3.0276503540974917"
      ]
     },
     "execution_count": 21,
     "metadata": {},
     "output_type": "execute_result"
    }
   ],
   "source": [
    "df['marks'].std()"
   ]
  },
  {
   "cell_type": "markdown",
   "id": "13f24a5a",
   "metadata": {},
   "source": [
    "Create a function that sums all numbers. It should work for both the inputs: 5,6,7,8,9\n",
    "as separate args and as a list [5,6,7,8,9]"
   ]
  },
  {
   "cell_type": "code",
   "execution_count": 9,
   "id": "763b181c",
   "metadata": {},
   "outputs": [],
   "source": [
    "def sum_numbers(*args):\n",
    "    if(type(args[0]) == list):\n",
    "        return sum(args[0])\n",
    "    else:\n",
    "        return sum(args)"
   ]
  },
  {
   "cell_type": "code",
   "execution_count": 10,
   "id": "7e009500",
   "metadata": {},
   "outputs": [
    {
     "name": "stdout",
     "output_type": "stream",
     "text": [
      "14\n"
     ]
    }
   ],
   "source": [
    "print(sum_numbers([5,3,4,2]))"
   ]
  },
  {
   "cell_type": "markdown",
   "id": "f3123e2e",
   "metadata": {},
   "source": [
    "Check whether two given strings are anagrams or not.\n",
    "Anagrams example( below = elbow, study = dusty, night = thing)"
   ]
  },
  {
   "cell_type": "code",
   "execution_count": 26,
   "id": "ba9217f9",
   "metadata": {},
   "outputs": [],
   "source": [
    "def anagram(string1,string2):\n",
    "    return sorted(string1)==sorted(string2)"
   ]
  },
  {
   "cell_type": "code",
   "execution_count": 27,
   "id": "84cbabe0",
   "metadata": {},
   "outputs": [
    {
     "name": "stdout",
     "output_type": "stream",
     "text": [
      "True\n"
     ]
    }
   ],
   "source": [
    "print(anagram('anant','tnana'))"
   ]
  },
  {
   "cell_type": "markdown",
   "id": "a6584611",
   "metadata": {},
   "source": [
    "5. i) Create a list L of size 9 of random numbers ranging from 5 to 9.\n",
    "ii) Count the frequency of each number on that list.\n",
    "iii) Print the values of indexes of the number which has the highest frequency."
   ]
  },
  {
   "cell_type": "code",
   "execution_count": 4,
   "id": "545b53ee",
   "metadata": {},
   "outputs": [],
   "source": [
    "L=[]\n",
    "for i in range(9):\n",
    "    L.append(random.randrange(5,9))"
   ]
  },
  {
   "cell_type": "code",
   "execution_count": 5,
   "id": "02342cb5",
   "metadata": {},
   "outputs": [
    {
     "name": "stdout",
     "output_type": "stream",
     "text": [
      "Counter({5: 4, 7: 3, 8: 1, 6: 1})\n"
     ]
    }
   ],
   "source": [
    "from collections import Counter\n",
    "\n",
    "counts = Counter(L)\n",
    "print(counts)"
   ]
  },
  {
   "cell_type": "code",
   "execution_count": 39,
   "id": "6ac2918e",
   "metadata": {},
   "outputs": [
    {
     "data": {
      "text/plain": [
       "'counts={}\\nfor num in L:\\n    if num in counts:\\n        counts[num] += 1\\n    else:\\n        counts[num] = 1'"
      ]
     },
     "execution_count": 39,
     "metadata": {},
     "output_type": "execute_result"
    }
   ],
   "source": [
    "\"\"\"counts={}\n",
    "for num in L:\n",
    "    if num in counts:\n",
    "        counts[num] += 1\n",
    "    else:\n",
    "        counts[num] = 1\"\"\""
   ]
  },
  {
   "cell_type": "code",
   "execution_count": 6,
   "id": "0987497a",
   "metadata": {},
   "outputs": [],
   "source": [
    "most_common = max(counts, key=counts.get)"
   ]
  },
  {
   "cell_type": "markdown",
   "id": "c63dbaed",
   "metadata": {},
   "source": [
    "The enumerate() function in Python takes an iterable object, such as a list, and returns an iterator that produces tuples containing the index and the value of each element of the object. It is commonly used to iterate over a list while keeping track of the index of the current element."
   ]
  },
  {
   "cell_type": "code",
   "execution_count": 7,
   "id": "cdc09b6a",
   "metadata": {},
   "outputs": [],
   "source": [
    "indexes =[i for i, x in enumerate(L) if x==most_common]"
   ]
  },
  {
   "cell_type": "code",
   "execution_count": 42,
   "id": "f7759299",
   "metadata": {},
   "outputs": [
    {
     "name": "stdout",
     "output_type": "stream",
     "text": [
      "[0, 2, 5, 8]\n"
     ]
    }
   ],
   "source": [
    "print(indexes)"
   ]
  },
  {
   "cell_type": "markdown",
   "id": "f746dbbc",
   "metadata": {},
   "source": [
    "6. i) Create a list L1 of random numbers (size of 10 or more) ranging from 40 to 49.\n",
    "ii) Create another list L2 of random numbers (size of 10 or more) ranging from 41 to\n",
    "48.\n",
    "iii) Create another list L by selecting the even indexing element from L1 and the odd\n",
    "indexing element from L2"
   ]
  },
  {
   "cell_type": "code",
   "execution_count": 51,
   "id": "1a53a4fa",
   "metadata": {},
   "outputs": [],
   "source": [
    "L1=[]\n",
    "for i in range(10):\n",
    "    L1.append(random.randrange(40,49))"
   ]
  },
  {
   "cell_type": "code",
   "execution_count": 52,
   "id": "fbfb7917",
   "metadata": {},
   "outputs": [],
   "source": [
    "L2=[]\n",
    "for i in range(10):\n",
    "    L2.append(random.randrange(41,48))"
   ]
  },
  {
   "cell_type": "code",
   "execution_count": 53,
   "id": "dcb089d6",
   "metadata": {},
   "outputs": [],
   "source": [
    "L3=[]\n",
    "for i in range(10):\n",
    "    if i%2==0:\n",
    "        L3.append(L1[i])\n",
    "    else:\n",
    "        L3.append(L2[i])"
   ]
  },
  {
   "cell_type": "markdown",
   "id": "3402bf06",
   "metadata": {},
   "source": [
    "Create a function that takes a list and returns a new list with unique elements of the\n",
    "first list"
   ]
  },
  {
   "cell_type": "code",
   "execution_count": 54,
   "id": "9b591bfb",
   "metadata": {},
   "outputs": [],
   "source": [
    "def unique_list(L):\n",
    "    A =[]\n",
    "    for x in L:\n",
    "        if x not in A:\n",
    "            A.append(x)\n",
    "    return A"
   ]
  },
  {
   "cell_type": "code",
   "execution_count": 55,
   "id": "826aed6f",
   "metadata": {},
   "outputs": [
    {
     "name": "stdout",
     "output_type": "stream",
     "text": [
      "[1, 2, 3, 5, 6]\n"
     ]
    }
   ],
   "source": [
    "print(unique_list([1,2,3,3,3,5,6,3,3,6]))"
   ]
  },
  {
   "cell_type": "markdown",
   "id": "185933c4",
   "metadata": {},
   "source": [
    "Create a random 20 x 5 array and extract the first ten rows of the array and store\n",
    "them into a variable"
   ]
  },
  {
   "cell_type": "code",
   "execution_count": 56,
   "id": "d194f3e3",
   "metadata": {},
   "outputs": [],
   "source": [
    "arr=np.random.rand(20,5)"
   ]
  },
  {
   "cell_type": "code",
   "execution_count": 57,
   "id": "dd8ed5fd",
   "metadata": {},
   "outputs": [],
   "source": [
    "first_ten_rows=arr[:10]"
   ]
  },
  {
   "cell_type": "code",
   "execution_count": 58,
   "id": "ddbac4a9",
   "metadata": {},
   "outputs": [
    {
     "name": "stdout",
     "output_type": "stream",
     "text": [
      "[[0.70246718 0.23170948 0.71376165 0.81745679 0.67797652]\n",
      " [0.4906733  0.11774352 0.53250965 0.92111408 0.73693403]\n",
      " [0.87756217 0.18832811 0.16243704 0.98641956 0.87892125]\n",
      " [0.23324719 0.87497538 0.99641224 0.57850249 0.98279061]\n",
      " [0.54828883 0.08743722 0.90326267 0.28029224 0.41479827]\n",
      " [0.02210696 0.97508613 0.13954538 0.12640879 0.74233058]\n",
      " [0.57412247 0.60825462 0.65614313 0.08668197 0.83408027]\n",
      " [0.68969387 0.89762979 0.73690385 0.96944518 0.78201508]\n",
      " [0.7567765  0.65967353 0.47669808 0.92308125 0.98976675]\n",
      " [0.74963701 0.94605977 0.05870617 0.14234273 0.78316215]]\n"
     ]
    }
   ],
   "source": [
    "print(first_ten_rows)"
   ]
  },
  {
   "cell_type": "markdown",
   "id": "42d167b5",
   "metadata": {},
   "source": [
    "Write a Python program to calculate the sum of all positive, and negative integers\n",
    "present in a given string.\n",
    "-100#^sdfkj8902w3ir021@swf-20\n",
    "Output: positive integer= 9046, negative integer= -120"
   ]
  },
  {
   "cell_type": "markdown",
   "id": "f48754ef",
   "metadata": {},
   "source": [
    "\\d is a regular expression pattern that matches any digit (0-9). When preceded by a + sign, it matches one or more consecutive digits."
   ]
  },
  {
   "cell_type": "code",
   "execution_count": 59,
   "id": "1d74f04d",
   "metadata": {},
   "outputs": [],
   "source": [
    "import re\n",
    "def positive_negative_sum(str1):\n",
    "    positive_values = sum(int(n) for n in re.findall('\\d+', str1))\n",
    "    negative_values = sum(int(n) for n in re.findall('-\\d+', str1))\n",
    "    return positive_values, negative_values"
   ]
  },
  {
   "cell_type": "code",
   "execution_count": 60,
   "id": "a2377c24",
   "metadata": {},
   "outputs": [],
   "source": [
    "str1 = '-100#^sdfkj8902w3ir021@swf-20'"
   ]
  },
  {
   "cell_type": "code",
   "execution_count": 61,
   "id": "1d7d103e",
   "metadata": {},
   "outputs": [
    {
     "name": "stdout",
     "output_type": "stream",
     "text": [
      "Positive values: 9046\n",
      "Negative values: -120\n"
     ]
    }
   ],
   "source": [
    "result = positive_negative_sum(str1)\n",
    "print(\"Positive values:\",result[0])\n",
    "print(\"Negative values:\",result[1])"
   ]
  },
  {
   "cell_type": "markdown",
   "id": "028d0d2a",
   "metadata": {},
   "source": [
    "There is a given array and split it from a specified position, and move the first part of\n",
    "the array add to the end.\n",
    "a[ ]= {5, 16, 62, 23, 7, 12, 18, 3, 1}\n",
    "Output = {7, 12, 18, 3, 1, 5, 16, 62, 23}"
   ]
  },
  {
   "cell_type": "code",
   "execution_count": 62,
   "id": "47c319f1",
   "metadata": {},
   "outputs": [
    {
     "name": "stdout",
     "output_type": "stream",
     "text": [
      "[7, 12, 18, 3, 1, 5, 16, 62, 23]\n"
     ]
    }
   ],
   "source": [
    "a = [5, 16, 62, 23, 7, 12, 18, 3, 1]\n",
    "split_pos = 4\n",
    "\n",
    "# Use slicing to split the array\n",
    "first_part = a[:split_pos]\n",
    "second_part = a[split_pos:]\n",
    "\n",
    "# Use concatenation to move the first part to the end\n",
    "result = second_part + first_part\n",
    "\n",
    "print(result)\n"
   ]
  },
  {
   "cell_type": "markdown",
   "id": "bbe5087f",
   "metadata": {},
   "source": [
    "## Nested Comprehensions"
   ]
  },
  {
   "cell_type": "code",
   "execution_count": 63,
   "id": "a6c67488",
   "metadata": {},
   "outputs": [
    {
     "name": "stdout",
     "output_type": "stream",
     "text": [
      "[1, 2, 3, 4, 5, 6, 7, 8, 9]\n"
     ]
    }
   ],
   "source": [
    "# 2-D List\n",
    "matrix = [[1, 2, 3], [4, 5], [6, 7, 8, 9]]\n",
    "\n",
    "# Nested List Comprehension to flatten a given 2-D matrix\n",
    "flatten_matrix = [val for sublist in matrix for val in sublist]\n",
    "\n",
    "print(flatten_matrix)\n"
   ]
  },
  {
   "cell_type": "code",
   "execution_count": 11,
   "id": "4c0e3192",
   "metadata": {},
   "outputs": [],
   "source": [
    "M=4\n",
    "N=3\n",
    "def transpose(A, B):\n",
    " \n",
    " for i in range(N):\n",
    "    for j in range(M):\n",
    "        B[i][j] = A[j][i]"
   ]
  },
  {
   "cell_type": "markdown",
   "id": "bb43d75c",
   "metadata": {},
   "source": [
    "12. Given a dictionary in Python, write a Python program to find the sum of all items in the\n",
    "dictionary.\n",
    "Input : {‘a’: 100, ‘b’:200, ‘c’:300}\n",
    "Output: 600"
   ]
  },
  {
   "cell_type": "code",
   "execution_count": 67,
   "id": "76a3aef2",
   "metadata": {},
   "outputs": [
    {
     "name": "stdout",
     "output_type": "stream",
     "text": [
      "600\n"
     ]
    }
   ],
   "source": [
    "my_dict = {'a': 100, 'b': 200, 'c': 300}\n",
    "\n",
    "# Use the sum() function and the values() method to find the sum of all items in the dictionary\n",
    "result = sum(my_dict.values())\n",
    "\n",
    "print(result)"
   ]
  },
  {
   "cell_type": "code",
   "execution_count": null,
   "id": "d471e8d7",
   "metadata": {},
   "outputs": [],
   "source": []
  }
 ],
 "metadata": {
  "kernelspec": {
   "display_name": "Python 3 (ipykernel)",
   "language": "python",
   "name": "python3"
  },
  "language_info": {
   "codemirror_mode": {
    "name": "ipython",
    "version": 3
   },
   "file_extension": ".py",
   "mimetype": "text/x-python",
   "name": "python",
   "nbconvert_exporter": "python",
   "pygments_lexer": "ipython3",
   "version": "3.10.9"
  }
 },
 "nbformat": 4,
 "nbformat_minor": 5
}
