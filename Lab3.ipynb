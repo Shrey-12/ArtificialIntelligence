{
 "cells": [
  {
   "cell_type": "markdown",
   "id": "117c08d4",
   "metadata": {},
   "source": [
    "A state space search problem is a type of problem where the goal is to find a path from a starting state to a goal state in a state space, where the state space is a set of possible states and the transitions between states are defined by a set of rules or actions. These problems are often solved using search algorithms such as breadth-first search, depth-first search, or A* search"
   ]
  },
  {
   "cell_type": "code",
   "execution_count": 1,
   "id": "7a3cf52c",
   "metadata": {},
   "outputs": [],
   "source": [
    "def DFS(start, goal, graph):\n",
    "    stack = [] # Initialize an empty stack\n",
    "    stack.append(start) # Add the start node to the stack\n",
    "    visited = set() # Initialize an empty set to keep track of visited nodes\n",
    "    while stack:\n",
    "        current = stack.pop() # Pop the top node from the stack\n",
    "        if current == goal: # Check if the current node is the goal\n",
    "            return \"Goal Found!\" # Return success if it is\n",
    "        if current not in visited: # Check if the current node has been visited\n",
    "            visited.add(current) # Mark the current node as visited\n",
    "            for neighbor in graph[current]: # Add all unvisited neighbors to the stack\n",
    "                stack.append(neighbor)\n",
    "    return \"Goal Not Found\" # Return failure if goal is not found\n"
   ]
  },
  {
   "cell_type": "code",
   "execution_count": 2,
   "id": "edd2b6fb",
   "metadata": {},
   "outputs": [],
   "source": [
    "from collections import deque\n",
    "\n",
    "def BFS(start, goal, graph):\n",
    "    queue = deque([start]) # Initialize a queue with the start node\n",
    "    visited = set() # Initialize an empty set to keep track of visited nodes\n",
    "    while queue:\n",
    "        current = queue.popleft() # Remove the first node from the queue\n",
    "        if current == goal: # Check if the current node is the goal\n",
    "            return \"Goal Found!\" # Return success if it is\n",
    "        if current not in visited: # Check if the current node has been visited\n",
    "            visited.add(current) # Mark the current node as visited\n",
    "            for neighbor in graph[current]: # Add all unvisited neighbors to the queue\n",
    "                queue.append(neighbor)\n",
    "    return \"Goal Not Found\" # Return failure if goal is not found\n"
   ]
  },
  {
   "cell_type": "markdown",
   "id": "1b782d8a",
   "metadata": {},
   "source": [
    "Depth Limited Search (DLS) is a variant of the depth-first search (DFS) algorithm that limits the depth of the search to a certain level. This is useful when the search space is too large or when the depth of the goal node is not known.\n",
    "\n",
    "The basic idea behind DLS is to add a parameter called \"depth limit\" to the DFS algorithm, and to stop the search when the current node's depth exceeds the depth limit"
   ]
  },
  {
   "cell_type": "code",
   "execution_count": 3,
   "id": "e4aaaa12",
   "metadata": {},
   "outputs": [],
   "source": [
    "def DLS(start, goal, graph, depth_limit):\n",
    "    stack = [(start, 0)] # Initialize a stack with the start node and depth 0\n",
    "    while stack:\n",
    "        current, depth = stack.pop() # Pop the top node and its depth from the stack\n",
    "        if depth > depth_limit: # Check if the depth limit has been exceeded\n",
    "            continue # Skip the current node\n",
    "        if current == goal: # Check if the current node is the goal\n",
    "            return \"Goal Found!\" # Return success if it is\n",
    "        for neighbor in graph[current]: # Add all neighbors to the stack\n",
    "            stack.append((neighbor, depth+1))\n",
    "    return \"Goal Not Found\" # Return failure if goal is not found\n"
   ]
  },
  {
   "cell_type": "markdown",
   "id": "e421b48d",
   "metadata": {},
   "source": [
    "Iterative Deepening Depth First Search (IDDFS) is a combination of depth-first search (DFS) and depth-limited search (DLS). It starts with a small depth limit and gradually increases it in each iteration until the goal node is found or the maximum depth is reached.\n",
    "\n",
    "The basic idea behind IDDFS is to use DLS with different depth limits in a loop, starting with a small depth limit and increasing it by one in each iteration. This way, IDDFS can find the goal node even if its depth is greater than the initial depth limit"
   ]
  },
  {
   "cell_type": "code",
   "execution_count": 4,
   "id": "2a01c4e3",
   "metadata": {},
   "outputs": [],
   "source": [
    "def IDDFS(start, goal, graph):\n",
    "    depth_limit = 0\n",
    "    while True:\n",
    "        result = DLS(start, goal, graph, depth_limit)\n",
    "        if result == \"Goal Found!\":\n",
    "            return \"Goal Found!\"\n",
    "        elif result == \"Goal Not Found\" and depth_limit >= max_depth:\n",
    "            return \"Goal Not Found\"\n",
    "        depth_limit += 1\n"
   ]
  },
  {
   "cell_type": "code",
   "execution_count": 6,
   "id": "8e2432c8",
   "metadata": {},
   "outputs": [],
   "source": [
    "from collections import deque\n",
    "\n",
    "def bidirectional_BFS(start, goal, graph):\n",
    "    start_queue = deque([start]) # Initialize a queue for the start state\n",
    "    goal_queue = deque([goal]) # Initialize a queue for the goal state\n",
    "    start_visited = set([start]) # Initialize a set to keep track of visited nodes from start\n",
    "    goal_visited = set([goal]) # Initialize a set to keep track of visited nodes from goal\n",
    "    while start_queue and goal_queue:\n",
    "        if len(start_queue) > len(goal_queue): # swap the queues if one is longer than the other\n",
    "            start_queue, goal_queue = goal_queue, start_queue\n",
    "            start_visited, goal_visited = goal_visited, start_visited\n",
    "        current = start_queue.popleft() # Remove the first node from the start queue\n",
    "        for neighbor in graph[current]:\n",
    "            if neighbor in goal_visited: # Check if the neighbor has been visited by the goal queue\n",
    "                return \"Path Found!\" # A path has been found\n",
    "            if neighbor not in start_visited: # Check if the neighbor has not been visited by the start queue\n",
    "                start_visited.add(neighbor) # Mark the neighbor as visited\n",
    "                start_queue.append(neighbor) # Add the neighbor to the start queue\n",
    "    return \"Path Not Found\" # Return failure if a path is not found\n"
   ]
  },
  {
   "cell_type": "code",
   "execution_count": 14,
   "id": "063966c1",
   "metadata": {},
   "outputs": [
    {
     "name": "stdout",
     "output_type": "stream",
     "text": [
      "hi\n",
      "hi\n",
      "hi\n",
      "hi\n",
      "No solution found.\n"
     ]
    }
   ],
   "source": [
    "# Helper function to check if the current state is a goal state\n",
    "def is_goal_state(state):\n",
    "    return state[0] == 1 and state[1] == 1 and state[2] == 1 and state[3] == 1\n",
    "\n",
    "def is_valid_state(state):\n",
    "    if state[1] == state[2] and state[1] != state[0]:\n",
    "        return False\n",
    "    if state[2] == state[3] and state[2] != state[0]:\n",
    "        return False\n",
    "    return True\n",
    "\n",
    "def DFS(state, visited_states, path):\n",
    "    # Mark the current state as visited\n",
    "    visited_states.append(state)\n",
    "    # Add the current state to the path\n",
    "    path.append(state)\n",
    "    # Check if the current state is the goal state\n",
    "    if is_goal_state(state):\n",
    "        return True\n",
    "    # Iterate through all possible actions\n",
    "    for i in range(1, 4):\n",
    "        # Create a new state after taking the action\n",
    "        new_state = list(state)\n",
    "    \n",
    "            new_state[i] = 1 - state[i] # Wolf, goat or cabbage moves\n",
    "        # Check if the new state is valid and not visited before\n",
    "        if is_valid_state(new_state) and new_state not in visited_states:\n",
    "            print(\"hi\")\n",
    "            # Recursively call the DFS function on the new state\n",
    "            if DFS(new_state, visited_states, path):\n",
    "                return True\n",
    "    # Backtrack\n",
    "    path.pop()\n",
    "    return False\n",
    "\n",
    "# Initial state\n",
    "initial_state = [0, 0, 0, 0] # [farmer, wolf, goat, cabbage]\n",
    "visited_states = []\n",
    "path = []\n",
    "\n",
    "# Call the DFS function to find the solution\n",
    "if DFS(initial_state, visited_states, path):\n",
    "    print(\"Solution found!\")\n",
    "    print(\"Path:\")\n",
    "    for state in path:\n",
    "        print(state)\n",
    "else:\n",
    "    print(\"No solution found.\")\n"
   ]
  },
  {
   "cell_type": "code",
   "execution_count": null,
   "id": "b8f33bca",
   "metadata": {},
   "outputs": [],
   "source": []
  }
 ],
 "metadata": {
  "kernelspec": {
   "display_name": "Python 3 (ipykernel)",
   "language": "python",
   "name": "python3"
  },
  "language_info": {
   "codemirror_mode": {
    "name": "ipython",
    "version": 3
   },
   "file_extension": ".py",
   "mimetype": "text/x-python",
   "name": "python",
   "nbconvert_exporter": "python",
   "pygments_lexer": "ipython3",
   "version": "3.10.9"
  }
 },
 "nbformat": 4,
 "nbformat_minor": 5
}
