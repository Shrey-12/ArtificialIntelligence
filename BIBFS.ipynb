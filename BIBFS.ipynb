{
 "cells": [
  {
   "cell_type": "code",
   "execution_count": 1,
   "id": "ce77b10d",
   "metadata": {},
   "outputs": [],
   "source": [
    "def is_valid(state):\n",
    "    goat_eats_cabbage = (\n",
    "        state[2]==state[3] and\n",
    "        state[0]!=state[2]\n",
    "    )\n",
    "    wolf_eats_goat = (\n",
    "        state[1]==state[2] and\n",
    "        state[0]!=state[1]\n",
    "    )\n",
    "    invalid = goat_eats_cabbage or wolf_eats_goat\n",
    "    return not invalid"
   ]
  },
  {
   "cell_type": "code",
   "execution_count": 2,
   "id": "6531602e",
   "metadata": {},
   "outputs": [],
   "source": [
    "def isThere(state,visited):\n",
    "    for i in visited:\n",
    "        if i==state:\n",
    "            return True\n",
    "    return False"
   ]
  },
  {
   "cell_type": "code",
   "execution_count": 20,
   "id": "e9710ce4",
   "metadata": {},
   "outputs": [],
   "source": [
    "from collections import deque\n",
    "\n",
    "def bi_BFS(start, goal, path):\n",
    "    path1=[start.copy()]\n",
    "    path2=[goal.copy()]\n",
    "    queue = deque([start.copy()])\n",
    "    end_queue = deque([goal.copy()])\n",
    "    visited = [start.copy()]\n",
    "    end_visited = [goal.copy()]\n",
    "    while queue and end_queue:\n",
    "        current = queue.popleft()\n",
    "        if isThere(current,end_queue):\n",
    "            return list(path1) + path2[::-1]\n",
    "             \n",
    "        for i in range(1,5):\n",
    "            new_state=current.copy()\n",
    "            new_state[0]=1-new_state[0]        \n",
    "            if(i!=4):\n",
    "                new_state[i]=1-new_state[i]\n",
    "            if(is_valid(new_state) and not isThere(new_state,visited)):\n",
    "                visited.append(new_state.copy())\n",
    "                path1.append(new_state.copy())\n",
    "                queue.append(new_state)\n",
    "        current = end_queue.popleft()\n",
    "        if isThere(current,queue):\n",
    "            return list(path1) + path2[::-1]\n",
    "        for i in range(1,5):\n",
    "            new_state=current.copy()\n",
    "            new_state[0]=1-new_state[0]        \n",
    "            if(i!=4):\n",
    "                new_state[i]=1-new_state[i]\n",
    "            if(is_valid(new_state) and not isThere(new_state,end_visited)):\n",
    "                end_visited.append(new_state.copy())\n",
    "                path2.append(new_state.copy())\n",
    "                end_queue.append(new_state)\n",
    "    return None"
   ]
  },
  {
   "cell_type": "code",
   "execution_count": 21,
   "id": "d620f2ff",
   "metadata": {},
   "outputs": [
    {
     "name": "stdout",
     "output_type": "stream",
     "text": [
      "[[0, 0, 0, 0], [1, 0, 1, 0], [0, 0, 1, 0], [1, 1, 1, 0], [1, 0, 1, 1], [0, 1, 0, 0], [1, 0, 1, 1], [0, 1, 0, 0], [0, 0, 0, 1], [1, 1, 0, 1], [0, 1, 0, 1], [1, 1, 1, 1]]\n"
     ]
    }
   ],
   "source": [
    "path=[]\n",
    "print(bi_BFS([0,0,0,0],[1,1,1,1],path))"
   ]
  },
  {
   "cell_type": "code",
   "execution_count": null,
   "id": "6b68f2be",
   "metadata": {},
   "outputs": [],
   "source": []
  }
 ],
 "metadata": {
  "kernelspec": {
   "display_name": "Python 3 (ipykernel)",
   "language": "python",
   "name": "python3"
  },
  "language_info": {
   "codemirror_mode": {
    "name": "ipython",
    "version": 3
   },
   "file_extension": ".py",
   "mimetype": "text/x-python",
   "name": "python",
   "nbconvert_exporter": "python",
   "pygments_lexer": "ipython3",
   "version": "3.10.9"
  }
 },
 "nbformat": 4,
 "nbformat_minor": 5
}
