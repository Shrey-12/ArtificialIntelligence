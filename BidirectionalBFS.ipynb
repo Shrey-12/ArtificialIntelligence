{
 "cells": [
  {
   "cell_type": "code",
   "execution_count": 14,
   "id": "2719c6af",
   "metadata": {},
   "outputs": [],
   "source": [
    "def bidirectional_bfs(initial_state, goal_state):\n",
    "    forward_queue = deque([initial_state])\n",
    "    backward_queue = deque([goal_state])\n",
    "    forward_visited = set([initial_state])\n",
    "    backward_visited = set([goal_state])\n",
    "    parents = {initial_state: None, goal_state: None}\n",
    "\n",
    "    while forward_queue and backward_queue:\n",
    "        current_state = forward_queue.popleft()\n",
    "        next_states = generate_next_states(current_state)\n",
    "        for next_state in next_states:\n",
    "            if is_visited(next_state, backward_visited):\n",
    "                # Create the path by tracing back through the parent pointers\n",
    "                path = construct_path(parents, current_state, next_state)\n",
    "                return path\n",
    "            if is_valid(next_state) and not is_visited(next_state, forward_visited):\n",
    "                forward_queue.append(next_state)\n",
    "                forward_visited.add(next_state)\n",
    "                parents[next_state] = current_state\n",
    "\n",
    "        current_state = backward_queue.popleft()\n",
    "        # Generate all possible next states\n",
    "        next_states = generate_next_states(current_state)\n",
    "        # Check if any of the next states have been visited by the forward search\n",
    "        for next_state in next_states:\n",
    "            if is_visited(next_state, forward_visited):\n",
    "                # Create the path by tracing back through the parent pointers\n",
    "                path = construct_path(parents, next_state, current_state)\n",
    "                return path\n",
    "            # Check if the next state is valid and has not been visited before\n",
    "            if is_valid(next_state) and not is_visited(next_state, backward_visited):\n",
    "                backward_queue.append(next_state)\n",
    "                backward_visited.add(next_state)\n",
    "                parents[next_state] = current_state\n",
    "\n",
    "    return None\n"
   ]
  },
  {
   "cell_type": "code",
   "execution_count": 10,
   "id": "f8925741",
   "metadata": {},
   "outputs": [],
   "source": [
    "from collections import deque"
   ]
  },
  {
   "cell_type": "code",
   "execution_count": 11,
   "id": "134a59ea",
   "metadata": {},
   "outputs": [],
   "source": [
    "def generate_next_states(state):\n",
    "    next_states = []\n",
    "    farmer, wolf, goat, cabbage = state\n",
    "    # Farmer takes himself across the river\n",
    "    if farmer == 1:\n",
    "        next_states.append((0, wolf, goat, cabbage))\n",
    "    else:\n",
    "        next_states.append((1, wolf, goat, cabbage))\n",
    "    # Farmer takes wolf across the river\n",
    "    if farmer == wolf:\n",
    "        if farmer == 1:\n",
    "            next_states.append((0, 0, goat, cabbage))\n",
    "        else:\n",
    "            next_states.append((1, 1, goat, cabbage))\n",
    "    # Farmer takes goat across the river\n",
    "    if farmer == goat:\n",
    "        if (wolf != farmer) or (cabbage != farmer):\n",
    "            if farmer == 1:\n",
    "                next_states.append((0, wolf, 0, cabbage))\n",
    "            else:\n",
    "                next_states.append((1, wolf, 1, cabbage))\n",
    "    # Farmer takes cabbage across the river\n",
    "    if farmer == cabbage:\n",
    "        if (wolf != farmer) or (goat != farmer):\n",
    "            if farmer == 1:\n",
    "                next_states.append((0, wolf, goat, 0))\n",
    "            else:\n",
    "                next_states.append((1, wolf, goat, 1))\n",
    "    return next_states\n"
   ]
  },
  {
   "cell_type": "code",
   "execution_count": 12,
   "id": "3fda9fa2",
   "metadata": {},
   "outputs": [],
   "source": [
    "def is_visited(state, visited):\n",
    "    return state in visited\n"
   ]
  },
  {
   "cell_type": "code",
   "execution_count": 13,
   "id": "54865ca3",
   "metadata": {},
   "outputs": [],
   "source": [
    "def construct_path(parents, current_state, next_state):\n",
    "    path = []\n",
    "    # Start from the current state and trace back through the parent pointers\n",
    "    while current_state is not None:\n",
    "        path.append(current_state)\n",
    "        current_state = parents[current_state]\n",
    "    # Reverse the path to get the path from the initial state to the goal state\n",
    "    path.reverse()\n",
    "    # Start from the next state and trace forward through the parent pointers\n",
    "    while next_state is not None:\n",
    "        path.append(next_state)\n",
    "        next_state = parents[next_state]\n",
    "    return path\n"
   ]
  },
  {
   "cell_type": "code",
   "execution_count": 19,
   "id": "dab2e835",
   "metadata": {},
   "outputs": [
    {
     "name": "stdout",
     "output_type": "stream",
     "text": [
      "None\n"
     ]
    }
   ],
   "source": [
    "print(bidirectional_bfs((0,0,0,0),(1,1,1,1)))\n"
   ]
  },
  {
   "cell_type": "code",
   "execution_count": 16,
   "id": "d72c8264",
   "metadata": {},
   "outputs": [],
   "source": [
    "def is_valid(state):\n",
    "    farmer, wolf, goat, cabbage = state\n",
    "    # Check if the wolf and goat or the goat and cabbage are left alone together\n",
    "    if (wolf == goat and wolf != farmer) or (goat == cabbage and goat != farmer):\n",
    "        return False\n",
    "    return True\n"
   ]
  },
  {
   "cell_type": "code",
   "execution_count": null,
   "id": "c893622e",
   "metadata": {},
   "outputs": [],
   "source": []
  }
 ],
 "metadata": {
  "kernelspec": {
   "display_name": "Python 3 (ipykernel)",
   "language": "python",
   "name": "python3"
  },
  "language_info": {
   "codemirror_mode": {
    "name": "ipython",
    "version": 3
   },
   "file_extension": ".py",
   "mimetype": "text/x-python",
   "name": "python",
   "nbconvert_exporter": "python",
   "pygments_lexer": "ipython3",
   "version": "3.10.9"
  }
 },
 "nbformat": 4,
 "nbformat_minor": 5
}
