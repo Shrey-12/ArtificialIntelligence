{
 "cells": [
  {
   "cell_type": "markdown",
   "id": "effd5356",
   "metadata": {},
   "source": [
    "hello my name is python\n"
   ]
  },
  {
   "cell_type": "markdown",
   "id": "249b6fd0",
   "metadata": {},
   "source": [
    "ok"
   ]
  },
  {
   "cell_type": "markdown",
   "id": "c6c3f6a7",
   "metadata": {},
   "source": [
    "       M,W,G,C"
   ]
  },
  {
   "cell_type": "code",
   "execution_count": 127,
   "id": "dcd1384b",
   "metadata": {},
   "outputs": [],
   "source": [
    "def is_valid(state):\n",
    "    goat_eats_cabbage = (\n",
    "        state[2]==state[3] and\n",
    "        state[0]!=state[2]\n",
    "    )\n",
    "    wolf_eats_goat = (\n",
    "        state[1]==state[2] and\n",
    "        state[0]!=state[1]\n",
    "    )\n",
    "    invalid = goat_eats_cabbage or wolf_eats_goat\n",
    "    return not invalid"
   ]
  },
  {
   "cell_type": "code",
   "execution_count": 128,
   "id": "1aafab9a",
   "metadata": {},
   "outputs": [],
   "source": [
    "def is_goal_state(state):\n",
    "    return state==[1,1,1,1]    \n",
    "    "
   ]
  },
  {
   "cell_type": "code",
   "execution_count": 133,
   "id": "df305abe",
   "metadata": {},
   "outputs": [],
   "source": [
    "def DFS(current, visited, path):\n",
    "    path.append(current.copy())\n",
    "    visited.append(current.copy())\n",
    "    \n",
    "    if is_goal_state(current):\n",
    "        return True;\n",
    "  \n",
    "    for i in range(1,5):\n",
    "        new_state=current.copy()\n",
    "        new_state[0]=1-new_state[0]        \n",
    "        if(i!=4):\n",
    "            new_state[i]=1-new_state[i]\n",
    "            \n",
    "        if(is_valid(new_state) and not isThere(new_state,visited)):\n",
    "            if(DFS(new_state,visited,path)):\n",
    "                return True\n",
    "    path.pop()\n",
    "    return False"
   ]
  },
  {
   "cell_type": "code",
   "execution_count": 134,
   "id": "72302823",
   "metadata": {},
   "outputs": [
    {
     "name": "stdout",
     "output_type": "stream",
     "text": [
      "[[0, 0, 0, 0], [1, 0, 1, 0], [0, 0, 1, 0], [1, 1, 1, 0], [0, 1, 0, 0], [1, 1, 0, 1], [0, 1, 0, 1], [1, 1, 1, 1]]\n"
     ]
    }
   ],
   "source": [
    "path=[]\n",
    "visited=[]\n",
    "state = [0,0,0,0]\n",
    "goal = [1,1,1,1]\n",
    "DFS(state,visited,path)\n",
    "print(path)"
   ]
  },
  {
   "cell_type": "code",
   "execution_count": 98,
   "id": "f8733447",
   "metadata": {},
   "outputs": [
    {
     "name": "stdout",
     "output_type": "stream",
     "text": [
      "hello\n"
     ]
    }
   ],
   "source": [
    "visited=[[0,0,0,0]]\n",
    "state = [0,0,0,0]\n"
   ]
  },
  {
   "cell_type": "code",
   "execution_count": 99,
   "id": "cdc0fd0f",
   "metadata": {},
   "outputs": [],
   "source": [
    "def isThere(state,visited):\n",
    "    for i in visited:\n",
    "        if i==state:\n",
    "            return True\n",
    "    return False\n"
   ]
  },
  {
   "cell_type": "code",
   "execution_count": 147,
   "id": "6529f788",
   "metadata": {},
   "outputs": [],
   "source": [
    "from collections import deque\n",
    "\n",
    "def BFS(start, visited, path):\n",
    "    queue = deque([start.copy()])\n",
    "    while queue:\n",
    "        current = queue.popleft()\n",
    "        print(current)\n",
    "        if is_goal_state(current):\n",
    "            return True\n",
    "        for i in range(1,5):\n",
    "            new_state=current.copy()\n",
    "            new_state[0]=1-new_state[0]        \n",
    "            if(i!=4):\n",
    "                new_state[i]=1-new_state[i]\n",
    "            if(is_valid(new_state) and not isThere(new_state,visited)):\n",
    "                visited.append(new_state.copy())\n",
    "                path.append(new_state.copy())\n",
    "                queue.append(new_state)\n",
    "    return False"
   ]
  },
  {
   "cell_type": "code",
   "execution_count": 149,
   "id": "ca8403ad",
   "metadata": {},
   "outputs": [
    {
     "name": "stdout",
     "output_type": "stream",
     "text": [
      "[0, 0, 0, 0]\n",
      "[1, 0, 1, 0]\n",
      "[0, 0, 1, 0]\n",
      "[1, 1, 1, 0]\n",
      "[1, 0, 1, 1]\n",
      "[0, 1, 0, 0]\n",
      "[0, 0, 0, 1]\n",
      "[1, 1, 0, 1]\n",
      "[0, 1, 0, 1]\n",
      "[1, 1, 1, 1]\n"
     ]
    },
    {
     "data": {
      "text/plain": [
       "True"
      ]
     },
     "execution_count": 149,
     "metadata": {},
     "output_type": "execute_result"
    }
   ],
   "source": [
    "path=[[0,0,0,0]]\n",
    "visited=[[0,0,0,0]]\n",
    "state = [0,0,0,0]\n",
    "goal = [1,1,1,1]\n",
    "BFS(state,visited,path)"
   ]
  },
  {
   "cell_type": "code",
   "execution_count": null,
   "id": "bde2b644",
   "metadata": {},
   "outputs": [],
   "source": [
    "def DLS(current, visited, path,depth_limit):\n",
    "    path.append(current.copy())\n",
    "    visited.append(current.copy())\n",
    "    \n",
    "    if is_goal_state(current):\n",
    "        return True;\n",
    "    \n",
    "    if depth_limit==0:\n",
    "        return False\n",
    "    else:\n",
    "        for i in range(1,5):\n",
    "            new_state=current.copy()\n",
    "            new_state[0]=1-new_state[0]        \n",
    "            if(i!=4):\n",
    "                new_state[i]=1-new_state[i]\n",
    "\n",
    "            if(is_valid(new_state) and not isThere(new_state,visited)):\n",
    "                if(DLS(new_state,visited,path,depth_limit-1)):\n",
    "                    return True\n",
    "    path.pop()\n",
    "    return False"
   ]
  },
  {
   "cell_type": "code",
   "execution_count": null,
   "id": "cc1de1d5",
   "metadata": {},
   "outputs": [],
   "source": [
    "path=[]\n",
    "visited=[]\n",
    "state = [0,0,0,0]\n",
    "goal = [1,1,1,1]"
   ]
  },
  {
   "cell_type": "code",
   "execution_count": null,
   "id": "34d69fb6",
   "metadata": {},
   "outputs": [],
   "source": [
    "def IDDFS(current,visited,path):\n",
    "    print(\"hi\")\n",
    "    depth_limit = 0\n",
    "    while True:\n",
    "        result = DLS(current, visited,path,depth_limit)\n",
    "        print(result)\n",
    "        if result:\n",
    "            return \"Goal Found!\"\n",
    "        elif result and depth_limit >= max_depth:\n",
    "            return \"Goal Not Found\"\n",
    "        depth_limit += 1"
   ]
  },
  {
   "cell_type": "code",
   "execution_count": null,
   "id": "ea71faf5",
   "metadata": {},
   "outputs": [],
   "source": [
    "path=[]\n",
    "visited=[]\n",
    "state = [0,0,0,0]\n",
    "goal = [1,1,1,1]\n",
    "print(IDDFS(state,visited,path))\n",
    "print(path)"
   ]
  },
  {
   "cell_type": "code",
   "execution_count": null,
   "id": "ca79d1f9",
   "metadata": {},
   "outputs": [],
   "source": []
  }
 ],
 "metadata": {
  "kernelspec": {
   "display_name": "Python 3 (ipykernel)",
   "language": "python",
   "name": "python3"
  },
  "language_info": {
   "codemirror_mode": {
    "name": "ipython",
    "version": 3
   },
   "file_extension": ".py",
   "mimetype": "text/x-python",
   "name": "python",
   "nbconvert_exporter": "python",
   "pygments_lexer": "ipython3",
   "version": "3.10.9"
  }
 },
 "nbformat": 4,
 "nbformat_minor": 5
}
