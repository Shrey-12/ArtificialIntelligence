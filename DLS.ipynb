{
 "cells": [
  {
   "cell_type": "code",
   "execution_count": 5,
   "id": "86fde193",
   "metadata": {},
   "outputs": [],
   "source": [
    "def is_valid(state):\n",
    "    goat_eats_cabbage = (\n",
    "        state[2]==state[3] and\n",
    "        state[0]!=state[2]\n",
    "    )\n",
    "    wolf_eats_goat = (\n",
    "        state[1]==state[2] and\n",
    "        state[0]!=state[1]\n",
    "    )\n",
    "    invalid = goat_eats_cabbage or wolf_eats_goat\n",
    "    return not invalid"
   ]
  },
  {
   "cell_type": "code",
   "execution_count": 6,
   "id": "43404946",
   "metadata": {},
   "outputs": [],
   "source": [
    "def isThere(state,visited):\n",
    "    for i in visited:\n",
    "        if i==state:\n",
    "            return True\n",
    "    return False\n"
   ]
  },
  {
   "cell_type": "code",
   "execution_count": 7,
   "id": "e078b2d8",
   "metadata": {},
   "outputs": [],
   "source": [
    "def is_goal_state(state):\n",
    "    return state==[1,1,1,1]    \n",
    "    "
   ]
  },
  {
   "cell_type": "code",
   "execution_count": 8,
   "id": "3d5f078f",
   "metadata": {},
   "outputs": [],
   "source": [
    "def DLS(current, visited, path,depth_limit):\n",
    "    path.append(current.copy())\n",
    "    visited.append(current.copy())\n",
    "    \n",
    "    if is_goal_state(current):\n",
    "        return True;\n",
    "    \n",
    "    if depth_limit==0:\n",
    "        return False\n",
    "    else:\n",
    "        for i in range(1,5):\n",
    "            new_state=current.copy()\n",
    "            new_state[0]=1-new_state[0]        \n",
    "            if(i!=4):\n",
    "                new_state[i]=1-new_state[i]\n",
    "\n",
    "            if(is_valid(new_state) and not isThere(new_state,visited)):\n",
    "                if(DLS(new_state,visited,path,depth_limit-1)):\n",
    "                    return True\n",
    "    path.pop()\n",
    "    return False"
   ]
  },
  {
   "cell_type": "code",
   "execution_count": 9,
   "id": "6494da6d",
   "metadata": {},
   "outputs": [],
   "source": [
    "def IDDFS(current,max_depth):\n",
    "    depth_limit = max_depth\n",
    "    while depth_limit<=max_depth:\n",
    "        path=[]\n",
    "        visited=[]\n",
    "        result = DLS(current, visited,path,depth_limit)\n",
    "        if result:\n",
    "            return path\n",
    "        depth_limit -=1\n",
    "    return None"
   ]
  },
  {
   "cell_type": "code",
   "execution_count": 10,
   "id": "962e6d30",
   "metadata": {},
   "outputs": [
    {
     "name": "stdout",
     "output_type": "stream",
     "text": [
      "[[0, 0, 0, 0], [1, 0, 1, 0], [0, 0, 1, 0], [1, 1, 1, 0], [0, 1, 0, 0], [1, 1, 0, 1], [0, 1, 0, 1], [1, 1, 1, 1]]\n"
     ]
    }
   ],
   "source": [
    "state = [0,0,0,0]\n",
    "goal = [1,1,1,1]\n",
    "print(IDDFS(state,10))"
   ]
  },
  {
   "cell_type": "code",
   "execution_count": 42,
   "id": "52992c40",
   "metadata": {},
   "outputs": [
    {
     "name": "stdout",
     "output_type": "stream",
     "text": [
      "[[0, 0, 0, 0], [1, 0, 1, 0], [0, 0, 1, 0], [1, 1, 1, 0], [0, 1, 0, 0], [1, 1, 0, 1], [0, 0, 0, 1], [0, 1, 0, 1], [1, 1, 1, 1]]\n"
     ]
    }
   ],
   "source": []
  },
  {
   "cell_type": "code",
   "execution_count": null,
   "id": "05d22f95",
   "metadata": {},
   "outputs": [],
   "source": []
  }
 ],
 "metadata": {
  "kernelspec": {
   "display_name": "Python 3 (ipykernel)",
   "language": "python",
   "name": "python3"
  },
  "language_info": {
   "codemirror_mode": {
    "name": "ipython",
    "version": 3
   },
   "file_extension": ".py",
   "mimetype": "text/x-python",
   "name": "python",
   "nbconvert_exporter": "python",
   "pygments_lexer": "ipython3",
   "version": "3.10.9"
  }
 },
 "nbformat": 4,
 "nbformat_minor": 5
}
